{
 "cells": [
  {
   "cell_type": "markdown",
   "metadata": {},
   "source": [
    "# Naive Bayes - Supervised Machine Learning Algorithm"
   ]
  },
  {
   "cell_type": "code",
   "execution_count": 1,
   "metadata": {},
   "outputs": [],
   "source": [
    "import numpy as np\n",
    "import pandas as pd\n",
    "import matplotlib.pyplot as plt\n",
    "#from xgboost import plot_importance\n",
    "from numpy import loadtxt\n",
    "#from xgboost import XGBClassifier\n",
    "from sklearn.model_selection import train_test_split\n",
    "from sklearn.metrics import accuracy_score\n",
    "from sklearn.metrics import f1_score\n",
    "from sklearn.metrics import precision_score\n",
    "import pickle\n",
    "#from tqdm import tqdm\n",
    "from sklearn.metrics import confusion_matrix\n",
    "from sklearn.naive_bayes import GaussianNB\n",
    "from sklearn.naive_bayes import BernoulliNB\n",
    "from sklearn.metrics import recall_score"
   ]
  },
  {
   "cell_type": "markdown",
   "metadata": {},
   "source": [
    "# Reading the Data from the CSV File"
   ]
  },
  {
   "cell_type": "code",
   "execution_count": 2,
   "metadata": {},
   "outputs": [
    {
     "name": "stderr",
     "output_type": "stream",
     "text": [
      "/usr/local/Cellar/jupyterlab/2.2.8/libexec/lib/python3.8/site-packages/numpy/lib/arraysetops.py:580: FutureWarning: elementwise comparison failed; returning scalar instead, but in the future will perform elementwise comparison\n",
      "  mask |= (ar1 == a)\n"
     ]
    },
    {
     "data": {
      "text/html": [
       "<div>\n",
       "<style scoped>\n",
       "    .dataframe tbody tr th:only-of-type {\n",
       "        vertical-align: middle;\n",
       "    }\n",
       "\n",
       "    .dataframe tbody tr th {\n",
       "        vertical-align: top;\n",
       "    }\n",
       "\n",
       "    .dataframe thead th {\n",
       "        text-align: right;\n",
       "    }\n",
       "</style>\n",
       "<table border=\"1\" class=\"dataframe\">\n",
       "  <thead>\n",
       "    <tr style=\"text-align: right;\">\n",
       "      <th></th>\n",
       "      <th>Flow ID</th>\n",
       "      <th>Src IP</th>\n",
       "      <th>Src Port</th>\n",
       "      <th>Dst IP</th>\n",
       "      <th>Dst Port</th>\n",
       "      <th>Protocol</th>\n",
       "      <th>Timestamp</th>\n",
       "      <th>Flow Duration</th>\n",
       "      <th>Tot Fwd Pkts</th>\n",
       "      <th>Tot Bwd Pkts</th>\n",
       "      <th>...</th>\n",
       "      <th>Fwd Seg Size Min</th>\n",
       "      <th>Active Mean</th>\n",
       "      <th>Active Std</th>\n",
       "      <th>Active Max</th>\n",
       "      <th>Active Min</th>\n",
       "      <th>Idle Mean</th>\n",
       "      <th>Idle Std</th>\n",
       "      <th>Idle Max</th>\n",
       "      <th>Idle Min</th>\n",
       "      <th>Label</th>\n",
       "    </tr>\n",
       "  </thead>\n",
       "  <tbody>\n",
       "    <tr>\n",
       "      <th>624</th>\n",
       "      <td>192.168.4.118-203.73.24.75-4504-80-6</td>\n",
       "      <td>192.168.4.118</td>\n",
       "      <td>4504</td>\n",
       "      <td>203.73.24.75</td>\n",
       "      <td>80</td>\n",
       "      <td>6</td>\n",
       "      <td>12/06/2010 08:34:32 AM</td>\n",
       "      <td>3974862</td>\n",
       "      <td>29</td>\n",
       "      <td>44</td>\n",
       "      <td>...</td>\n",
       "      <td>0</td>\n",
       "      <td>0.0</td>\n",
       "      <td>0.0</td>\n",
       "      <td>0.0</td>\n",
       "      <td>0.0</td>\n",
       "      <td>0.0</td>\n",
       "      <td>0.0</td>\n",
       "      <td>0.0</td>\n",
       "      <td>0.0</td>\n",
       "      <td>ddos</td>\n",
       "    </tr>\n",
       "    <tr>\n",
       "      <th>625</th>\n",
       "      <td>192.168.4.118-203.73.24.75-4504-80-6</td>\n",
       "      <td>192.168.4.118</td>\n",
       "      <td>4504</td>\n",
       "      <td>203.73.24.75</td>\n",
       "      <td>80</td>\n",
       "      <td>6</td>\n",
       "      <td>12/06/2010 08:34:36 AM</td>\n",
       "      <td>63</td>\n",
       "      <td>1</td>\n",
       "      <td>1</td>\n",
       "      <td>...</td>\n",
       "      <td>0</td>\n",
       "      <td>0.0</td>\n",
       "      <td>0.0</td>\n",
       "      <td>0.0</td>\n",
       "      <td>0.0</td>\n",
       "      <td>0.0</td>\n",
       "      <td>0.0</td>\n",
       "      <td>0.0</td>\n",
       "      <td>0.0</td>\n",
       "      <td>ddos</td>\n",
       "    </tr>\n",
       "    <tr>\n",
       "      <th>626</th>\n",
       "      <td>192.168.4.118-203.73.24.75-4505-80-6</td>\n",
       "      <td>192.168.4.118</td>\n",
       "      <td>4505</td>\n",
       "      <td>203.73.24.75</td>\n",
       "      <td>80</td>\n",
       "      <td>6</td>\n",
       "      <td>12/06/2010 08:34:36 AM</td>\n",
       "      <td>476078</td>\n",
       "      <td>2</td>\n",
       "      <td>6</td>\n",
       "      <td>...</td>\n",
       "      <td>0</td>\n",
       "      <td>0.0</td>\n",
       "      <td>0.0</td>\n",
       "      <td>0.0</td>\n",
       "      <td>0.0</td>\n",
       "      <td>0.0</td>\n",
       "      <td>0.0</td>\n",
       "      <td>0.0</td>\n",
       "      <td>0.0</td>\n",
       "      <td>ddos</td>\n",
       "    </tr>\n",
       "    <tr>\n",
       "      <th>627</th>\n",
       "      <td>192.168.4.118-203.73.24.75-4505-80-6</td>\n",
       "      <td>192.168.4.118</td>\n",
       "      <td>4505</td>\n",
       "      <td>203.73.24.75</td>\n",
       "      <td>80</td>\n",
       "      <td>6</td>\n",
       "      <td>12/06/2010 08:34:37 AM</td>\n",
       "      <td>151</td>\n",
       "      <td>2</td>\n",
       "      <td>1</td>\n",
       "      <td>...</td>\n",
       "      <td>0</td>\n",
       "      <td>0.0</td>\n",
       "      <td>0.0</td>\n",
       "      <td>0.0</td>\n",
       "      <td>0.0</td>\n",
       "      <td>0.0</td>\n",
       "      <td>0.0</td>\n",
       "      <td>0.0</td>\n",
       "      <td>0.0</td>\n",
       "      <td>ddos</td>\n",
       "    </tr>\n",
       "    <tr>\n",
       "      <th>628</th>\n",
       "      <td>192.168.4.118-203.73.24.75-4506-80-6</td>\n",
       "      <td>192.168.4.118</td>\n",
       "      <td>4506</td>\n",
       "      <td>203.73.24.75</td>\n",
       "      <td>80</td>\n",
       "      <td>6</td>\n",
       "      <td>12/06/2010 08:34:37 AM</td>\n",
       "      <td>472507</td>\n",
       "      <td>2</td>\n",
       "      <td>5</td>\n",
       "      <td>...</td>\n",
       "      <td>0</td>\n",
       "      <td>0.0</td>\n",
       "      <td>0.0</td>\n",
       "      <td>0.0</td>\n",
       "      <td>0.0</td>\n",
       "      <td>0.0</td>\n",
       "      <td>0.0</td>\n",
       "      <td>0.0</td>\n",
       "      <td>0.0</td>\n",
       "      <td>ddos</td>\n",
       "    </tr>\n",
       "  </tbody>\n",
       "</table>\n",
       "<p>5 rows × 84 columns</p>\n",
       "</div>"
      ],
      "text/plain": [
       "                                  Flow ID         Src IP  Src Port  \\\n",
       "624  192.168.4.118-203.73.24.75-4504-80-6  192.168.4.118      4504   \n",
       "625  192.168.4.118-203.73.24.75-4504-80-6  192.168.4.118      4504   \n",
       "626  192.168.4.118-203.73.24.75-4505-80-6  192.168.4.118      4505   \n",
       "627  192.168.4.118-203.73.24.75-4505-80-6  192.168.4.118      4505   \n",
       "628  192.168.4.118-203.73.24.75-4506-80-6  192.168.4.118      4506   \n",
       "\n",
       "           Dst IP  Dst Port  Protocol               Timestamp  Flow Duration  \\\n",
       "624  203.73.24.75        80         6  12/06/2010 08:34:32 AM        3974862   \n",
       "625  203.73.24.75        80         6  12/06/2010 08:34:36 AM             63   \n",
       "626  203.73.24.75        80         6  12/06/2010 08:34:36 AM         476078   \n",
       "627  203.73.24.75        80         6  12/06/2010 08:34:37 AM            151   \n",
       "628  203.73.24.75        80         6  12/06/2010 08:34:37 AM         472507   \n",
       "\n",
       "     Tot Fwd Pkts  Tot Bwd Pkts  ...  Fwd Seg Size Min  Active Mean  \\\n",
       "624            29            44  ...                 0          0.0   \n",
       "625             1             1  ...                 0          0.0   \n",
       "626             2             6  ...                 0          0.0   \n",
       "627             2             1  ...                 0          0.0   \n",
       "628             2             5  ...                 0          0.0   \n",
       "\n",
       "     Active Std  Active Max  Active Min  Idle Mean  Idle Std  Idle Max  \\\n",
       "624         0.0         0.0         0.0        0.0       0.0       0.0   \n",
       "625         0.0         0.0         0.0        0.0       0.0       0.0   \n",
       "626         0.0         0.0         0.0        0.0       0.0       0.0   \n",
       "627         0.0         0.0         0.0        0.0       0.0       0.0   \n",
       "628         0.0         0.0         0.0        0.0       0.0       0.0   \n",
       "\n",
       "     Idle Min  Label  \n",
       "624       0.0   ddos  \n",
       "625       0.0   ddos  \n",
       "626       0.0   ddos  \n",
       "627       0.0   ddos  \n",
       "628       0.0   ddos  \n",
       "\n",
       "[5 rows x 84 columns]"
      ]
     },
     "execution_count": 2,
     "metadata": {},
     "output_type": "execute_result"
    }
   ],
   "source": [
    "import numpy as np\n",
    "import pandas as pd\n",
    "import matplotlib.pyplot as plt\n",
    "\n",
    "train = pd.read_csv(\"final_dataset.csv\",index_col=0)\n",
    "train.head()"
   ]
  },
  {
   "cell_type": "markdown",
   "metadata": {},
   "source": [
    "# Dimensions of the DataFrame read from the CSV file"
   ]
  },
  {
   "cell_type": "code",
   "execution_count": 3,
   "metadata": {},
   "outputs": [
    {
     "name": "stdout",
     "output_type": "stream",
     "text": [
      "Number of Rows:  12794627\n",
      "Number of Columns:  84\n"
     ]
    }
   ],
   "source": [
    "l = train.shape\n",
    "print(\"Number of Rows: \",l[0])\n",
    "print(\"Number of Columns: \",l[1])"
   ]
  },
  {
   "cell_type": "markdown",
   "metadata": {},
   "source": [
    "# Unique Elements in Label Section are DDOS and Benign"
   ]
  },
  {
   "cell_type": "code",
   "execution_count": 4,
   "metadata": {},
   "outputs": [
    {
     "data": {
      "text/plain": [
       "array(['ddos', 'Benign'], dtype=object)"
      ]
     },
     "execution_count": 4,
     "metadata": {},
     "output_type": "execute_result"
    }
   ],
   "source": [
    "train.Label.unique()"
   ]
  },
  {
   "cell_type": "markdown",
   "metadata": {},
   "source": [
    "# Labelling DDOS with 1 and Benign with 0 in the corresponding Label Column"
   ]
  },
  {
   "cell_type": "code",
   "execution_count": 5,
   "metadata": {},
   "outputs": [
    {
     "data": {
      "text/plain": [
       "array([1, 0])"
      ]
     },
     "execution_count": 5,
     "metadata": {},
     "output_type": "execute_result"
    }
   ],
   "source": [
    "train['Label'] = train.Label.map({'ddos':1, 'Benign':0})\n",
    "train.Label.unique()"
   ]
  },
  {
   "cell_type": "markdown",
   "metadata": {},
   "source": [
    "# Finding out the count of NAN values in Flow Byts/s Column "
   ]
  },
  {
   "cell_type": "code",
   "execution_count": 6,
   "metadata": {},
   "outputs": [
    {
     "name": "stdout",
     "output_type": "stream",
     "text": [
      "Column Flow Byts/s has NAN values in it with count as 29713\n"
     ]
    }
   ],
   "source": [
    "h = train['Flow Byts/s'].isna().sum()\n",
    "p = train['Flow Byts/s'].dtype\n",
    "print(\"Column Flow Byts/s has NAN values in it with count as\",h) "
   ]
  },
  {
   "cell_type": "markdown",
   "metadata": {},
   "source": [
    "# Removing rows which have NAN values in Flow Byts/s column"
   ]
  },
  {
   "cell_type": "code",
   "execution_count": 7,
   "metadata": {},
   "outputs": [
    {
     "data": {
      "text/plain": [
       "(12764914, 84)"
      ]
     },
     "execution_count": 7,
     "metadata": {},
     "output_type": "execute_result"
    }
   ],
   "source": [
    "train.dropna(subset = [\"Flow Byts/s\"], inplace=True)\n",
    "train.shape"
   ]
  },
  {
   "cell_type": "markdown",
   "metadata": {},
   "source": [
    "# Checking sum  of NAN values in each column of the Train DataFrame"
   ]
  },
  {
   "cell_type": "code",
   "execution_count": 8,
   "metadata": {},
   "outputs": [
    {
     "name": "stdout",
     "output_type": "stream",
     "text": [
      "0 0\n",
      "1 0\n",
      "2 0\n",
      "3 0\n",
      "4 0\n",
      "5 0\n",
      "6 0\n",
      "7 0\n",
      "8 0\n",
      "9 0\n",
      "10 0\n",
      "11 0\n",
      "12 0\n",
      "13 0\n",
      "14 0\n",
      "15 0\n",
      "16 0\n",
      "17 0\n",
      "18 0\n",
      "19 0\n",
      "20 0\n",
      "21 0\n",
      "22 0\n",
      "23 0\n",
      "24 0\n",
      "25 0\n",
      "26 0\n",
      "27 0\n",
      "28 0\n",
      "29 0\n",
      "30 0\n",
      "31 0\n",
      "32 0\n",
      "33 0\n",
      "34 0\n",
      "35 0\n",
      "36 0\n",
      "37 0\n",
      "38 0\n",
      "39 0\n",
      "40 0\n",
      "41 0\n",
      "42 0\n",
      "43 0\n",
      "44 0\n",
      "45 0\n",
      "46 0\n",
      "47 0\n",
      "48 0\n",
      "49 0\n",
      "50 0\n",
      "51 0\n",
      "52 0\n",
      "53 0\n",
      "54 0\n",
      "55 0\n",
      "56 0\n",
      "57 0\n",
      "58 0\n",
      "59 0\n",
      "60 0\n",
      "61 0\n",
      "62 0\n",
      "63 0\n",
      "64 0\n",
      "65 0\n",
      "66 0\n",
      "67 0\n",
      "68 0\n",
      "69 0\n",
      "70 0\n",
      "71 0\n",
      "72 0\n",
      "73 0\n",
      "74 0\n",
      "75 0\n",
      "76 0\n",
      "77 0\n",
      "78 0\n",
      "79 0\n",
      "80 0\n",
      "81 0\n",
      "82 0\n",
      "83 0\n"
     ]
    }
   ],
   "source": [
    "h = train.isna().sum()\n",
    "l = len(h)\n",
    "for i in range (0,l):\n",
    "    print(i,h[i])"
   ]
  },
  {
   "cell_type": "markdown",
   "metadata": {},
   "source": [
    "# Preprocessing for object and float data type columns"
   ]
  },
  {
   "cell_type": "code",
   "execution_count": 9,
   "metadata": {},
   "outputs": [
    {
     "data": {
      "text/plain": [
       "array([[4.816557e+06, 1.441500e+04, 4.504000e+03, ..., 0.000000e+00,\n",
       "        0.000000e+00, 1.000000e+00],\n",
       "       [4.816557e+06, 1.441500e+04, 4.504000e+03, ..., 0.000000e+00,\n",
       "        0.000000e+00, 1.000000e+00],\n",
       "       [4.816558e+06, 1.441500e+04, 4.505000e+03, ..., 0.000000e+00,\n",
       "        0.000000e+00, 1.000000e+00],\n",
       "       ...,\n",
       "       [1.099806e+06, 8.872000e+03, 6.108700e+04, ..., 0.000000e+00,\n",
       "        0.000000e+00, 0.000000e+00],\n",
       "       [1.913485e+06, 9.081000e+03, 6.158000e+04, ..., 0.000000e+00,\n",
       "        0.000000e+00, 0.000000e+00],\n",
       "       [4.028800e+05, 8.909000e+03, 4.939300e+04, ..., 0.000000e+00,\n",
       "        0.000000e+00, 0.000000e+00]])"
      ]
     },
     "execution_count": 9,
     "metadata": {},
     "output_type": "execute_result"
    }
   ],
   "source": [
    "from sklearn import preprocessing\n",
    "for f in train.columns:\n",
    "    if train[f].dtype == 'object':\n",
    "        lbl = preprocessing.LabelEncoder() \n",
    "        lbl.fit(list(train[f].values)) \n",
    "        train[f] = lbl.transform(list(train[f].values))\n",
    "    elif train[f].dtype == 'float64':\n",
    "        lbl = preprocessing.LabelEncoder() \n",
    "        lbl.fit(list(train[f].values)) \n",
    "        train[f] = lbl.transform(list(train[f].values))\n",
    "train=np.array(train) \n",
    "train = train.astype(float)\n",
    "train"
   ]
  },
  {
   "cell_type": "markdown",
   "metadata": {},
   "source": [
    "# Conversion of Numpy array to Data Frame, Creating X and Y data frame by seperating Label Column"
   ]
  },
  {
   "cell_type": "code",
   "execution_count": 10,
   "metadata": {},
   "outputs": [],
   "source": [
    "d0 = pd.DataFrame(train)\n",
    "X = d0.drop(83,axis=1)\n",
    "Y = d0[83]"
   ]
  },
  {
   "cell_type": "markdown",
   "metadata": {},
   "source": [
    "# Dimension of d0, X and Y "
   ]
  },
  {
   "cell_type": "code",
   "execution_count": 11,
   "metadata": {},
   "outputs": [
    {
     "name": "stdout",
     "output_type": "stream",
     "text": [
      "(12764914, 84)\n",
      "(12764914, 83)\n",
      "(12764914,)\n"
     ]
    }
   ],
   "source": [
    "p = d0.shape\n",
    "q = X.shape\n",
    "r = Y.shape\n",
    "print(p)\n",
    "print(q)\n",
    "print(r)"
   ]
  },
  {
   "cell_type": "markdown",
   "metadata": {},
   "source": [
    "# Splitting of Train and Test data from the X and Y"
   ]
  },
  {
   "cell_type": "code",
   "execution_count": 23,
   "metadata": {},
   "outputs": [],
   "source": [
    "seed = 7\n",
    "test_size = 0.0001\n",
    "X_train, X_test, y_train, y_test = train_test_split(X, Y, test_size=test_size, random_state=seed)"
   ]
  },
  {
   "cell_type": "markdown",
   "metadata": {},
   "source": [
    "# Dimensions of Train and Test data in X and Y"
   ]
  },
  {
   "cell_type": "code",
   "execution_count": 24,
   "metadata": {},
   "outputs": [
    {
     "name": "stdout",
     "output_type": "stream",
     "text": [
      "(12763637, 83)\n",
      "(12763637,)\n",
      "(1277, 83)\n",
      "(1277,)\n"
     ]
    }
   ],
   "source": [
    "u = X_train.shape\n",
    "v = y_train.shape\n",
    "w = X_test.shape\n",
    "z = y_test.shape\n",
    "print(u)\n",
    "print(v)\n",
    "print(w)\n",
    "print(z)"
   ]
  },
  {
   "cell_type": "markdown",
   "metadata": {},
   "source": [
    "# Time to model the data and predict the y values based on X_test dataset"
   ]
  },
  {
   "cell_type": "code",
   "execution_count": 25,
   "metadata": {},
   "outputs": [],
   "source": [
    "#%%time\n",
    "import pickle\n",
    "model=BernoulliNB(binarize=0.0)\n",
    "model.fit(X_train, y_train)\n",
    "filename = 'final_model.sav'\n",
    "pickle.dump(model, open(filename, 'wb'))\n",
    "y_pred = model.predict(X_test)"
   ]
  },
  {
   "cell_type": "markdown",
   "metadata": {},
   "source": [
    "# Evaluation Metrics of y_test score with y_pred score"
   ]
  },
  {
   "cell_type": "code",
   "execution_count": 26,
   "metadata": {},
   "outputs": [
    {
     "name": "stdout",
     "output_type": "stream",
     "text": [
      "accuracy: 0.8621769772905247\n",
      "f1-acore: 0.8666666666666667\n",
      "confusion matrix:\n",
      " [[529 109]\n",
      " [ 67 572]]\n",
      "Precision: 0.8399412628487518\n",
      "Recall_score: 0.8951486697965572\n",
      "Misclassified : 176\n"
     ]
    }
   ],
   "source": [
    "accuracy = accuracy_score(y_test, y_pred)\n",
    "print(\"accuracy:\",accuracy)\n",
    "\n",
    "f1score=f1_score(y_test, y_pred)\n",
    "print(\"f1-acore:\",f1score)\n",
    "\n",
    "cm=confusion_matrix(y_test, y_pred)\n",
    "print(\"confusion matrix:\\n\",cm)\n",
    "pr=precision_score(y_test,y_pred)\n",
    "print(\"Precision:\",pr)\n",
    "rs=recall_score(y_test,y_pred)\n",
    "print(\"Recall_score:\",rs)\n",
    "misclassified_samples = X_test[y_test != y_pred]\n",
    "mc=misclassified_samples.shape[0]\n",
    "print(\"Misclassified :\",mc)"
   ]
  },
  {
   "cell_type": "markdown",
   "metadata": {},
   "source": [
    "# ROC curve for the evaluation metrics found above"
   ]
  },
  {
   "cell_type": "code",
   "execution_count": 27,
   "metadata": {},
   "outputs": [
    {
     "data": {
      "text/plain": [
       "<matplotlib.legend.Legend at 0x13f4fef70>"
      ]
     },
     "execution_count": 27,
     "metadata": {},
     "output_type": "execute_result"
    },
    {
     "data": {
      "image/png": "[encoded data removed]",
      "text/plain": [
       "<Figure size 432x288 with 1 Axes>"
      ]
     },
     "metadata": {
      "needs_background": "light"
     },
     "output_type": "display_data"
    }
   ],
   "source": [
    "from sklearn.metrics import roc_curve, auc\n",
    "fpr, tpr, thresholds = roc_curve(y_pred, y_test)\n",
    "roc_auc = auc(fpr, tpr)\n",
    "\n",
    "plt.figure()\n",
    "plt.plot(fpr, tpr, color='darkorange', lw=2, label='ROC curve (area = %0.2f)' % roc_auc)\n",
    "plt.plot([0, 1], [0, 1], color='navy', lw=1, linestyle='--')\n",
    "plt.xlim([0.0, 1.0])\n",
    "plt.ylim([0.0, 1.05])\n",
    "plt.xlabel('False Positive Rate')\n",
    "plt.ylabel('True Positive Rate')\n",
    "plt.title('Receiver operating characteristic(Naive Bayes-Bernoulli)')\n",
    "plt.legend(loc=\"lower right\")"
   ]
  },
  {
   "cell_type": "code",
   "execution_count": 28,
   "metadata": {},
   "outputs": [
    {
     "name": "stdout",
     "output_type": "stream",
     "text": [
      "[63 62 61 65 66 38 39 64 55 37]\n",
      "[39 61 38 66 65 54 64 63 62 36]\n"
     ]
    }
   ],
   "source": [
    "A = model.feature_log_prob_[0, :].argsort()\n",
    "print(A[:10])\n",
    "B = model.feature_log_prob_[1, :].argsort()\n",
    "print(B[:10])"
   ]
  },
  {
   "cell_type": "code",
   "execution_count": 29,
   "metadata": {},
   "outputs": [],
   "source": [
    "X_test.to_csv('X_test.csv',index = False)\n",
    "y_test.to_csv('y_test.csv',index=False)"
   ]
  },
  {
   "cell_type": "code",
   "execution_count": null,
   "metadata": {},
   "outputs": [],
   "source": []
  }
 ],
 "metadata": {
  "kernelspec": {
   "display_name": "Python 3",
   "language": "python",
   "name": "python3"
  },
  "language_info": {
   "codemirror_mode": {
    "name": "ipython",
    "version": 3
   },
   "file_extension": ".py",
   "mimetype": "text/x-python",
   "name": "python",
   "nbconvert_exporter": "python",
   "pygments_lexer": "ipython3",
   "version": "3.8.5"
  }
 },
 "nbformat": 4,
 "nbformat_minor": 4
}
