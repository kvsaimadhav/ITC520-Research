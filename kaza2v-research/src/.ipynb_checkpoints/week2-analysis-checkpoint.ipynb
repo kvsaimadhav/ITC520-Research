{
 "cells": [
  {
   "cell_type": "code",
   "execution_count": 1,
   "metadata": {},
   "outputs": [],
   "source": [
    "import numpy as np\n",
    "import pandas as pd\n",
    "import matplotlib.pyplot as plt\n",
    "from numpy import loadtxt\n",
    "from sklearn.model_selection import train_test_split\n",
    "from sklearn.metrics import accuracy_score\n",
    "from sklearn.metrics import f1_score\n",
    "from sklearn.metrics import precision_score\n",
    "import pickle\n",
    "from sklearn.metrics import confusion_matrix\n",
    "from sklearn.naive_bayes import GaussianNB\n",
    "from sklearn.naive_bayes import BernoulliNB\n",
    "from sklearn.metrics import recall_score"
   ]
  },
  {
   "cell_type": "code",
   "execution_count": null,
   "metadata": {},
   "outputs": [],
   "source": [
    "import numpy as np\n",
    "import pandas as pd\n",
    "import matplotlib.pyplot as plt\n",
    "from sklearn import preprocessing\n",
    "\n",
    "#Reading the Dataset from the csv file\n",
    "train = pd.read_csv(\"final_dataset.csv\",index_col = 0)\n",
    "#Labeling the DDOS packets as 1 and Benign packets as 0\n",
    "train['Label'] = train.Label.map({'ddos':1, 'Benign':0})\n",
    "#Dropping NAN values rows from the only column found to have NAN values is Flow Byts/s\n",
    "train.dropna(subset = [\"Flow Byts/s\"], inplace=True)\n",
    "\n",
    "\n",
    "#Preprocessing of the data with object and float datatype columns\n",
    "for f in train.columns:\n",
    "    if train[f].dtype == 'object':\n",
    "        lbl = preprocessing.LabelEncoder() \n",
    "        lbl.fit(list(train[f].values)) \n",
    "        train[f] = lbl.transform(list(train[f].values))\n",
    "    elif train[f].dtype == 'float64':\n",
    "        lbl = preprocessing.LabelEncoder() \n",
    "        lbl.fit(list(train[f].values)) \n",
    "        train[f] = lbl.transform(list(train[f].values))\n",
    "#creating an array of train dataframe and making all values float after preprocessed\n",
    "train=np.array(train) \n",
    "train = train.astype(float)\n",
    "#creating dataframe d0 from train numpy array and splitting the X and Y values without Label column in X and with Label column in Y\n",
    "d0 = pd.DataFrame(train)\n",
    "X = d0.drop(83,axis=1)\n",
    "Y = d0[83]"
   ]
  },
  {
   "cell_type": "code",
   "execution_count": null,
   "metadata": {},
   "outputs": [],
   "source": [
    "#Seed and test_size given as input to the training model\n",
    "seed = 7\n",
    "test_size = 0.33\n",
    "X_train, X_test, y_train, y_test = train_test_split(X, Y, test_size=test_size, random_state=seed)\n",
    "#Model created using Bernoulli Naive Bayes ML algorithm predetermined from sklearn.naive_bayes library\n",
    "model=BernoulliNB(binarize=0.0)\n",
    "model.fit(X_train, y_train)\n",
    "#Predicted values while running the model on X_test dataset of length 4212422 data points\n",
    "y_pred = model.predict(X_test)\n",
    "#Checking Misclassified samples on X_test dataset based on the model prediction\n",
    "misclassified_samples = X_test[y_test != y_pred]\n",
    "mc=misclassified_samples.shape[0]\n",
    "print(\"Misclassified :\",mc)"
   ]
  },
  {
   "cell_type": "code",
   "execution_count": null,
   "metadata": {
    "scrolled": true
   },
   "outputs": [],
   "source": [
    "cm = confusion_matrix(y_test,y_pred)\n",
    "print(\"Confusion Matrix:\")\n",
    "print(cm)"
   ]
  },
  {
   "cell_type": "code",
   "execution_count": null,
   "metadata": {},
   "outputs": [],
   "source": [
    "#TP means True Positive, \n",
    "#TN means True negative,\n",
    "#FP means False positive and \n",
    "#FN means False negative\n",
    "print(\"--------------------------------------------------\")\n",
    "print(\"----------DDOS------------------------Benign------\")\n",
    "print(\"DDOS\",\" \"*3,cm[0][0],\" TP\",\" \"*17,cm[0][1],\" FP\")\n",
    "print(\"Bengin\",\" \"*2,cm[1][0],\" FN\",\" \"*17,cm[1][1],\" TN\")\n",
    "print(\"---------------------------------------------------\")"
   ]
  },
  {
   "cell_type": "code",
   "execution_count": null,
   "metadata": {},
   "outputs": [],
   "source": [
    "l = X_test.shape[0]\n",
    "fp = cm[0][1]\n",
    "fn = cm[1][0]\n",
    "print(\"Labelled Samples with DDOS and Predicted as Normal Samples is:\",fp/l*100,\"%\")\n",
    "print(\"Labelled Samples with Benign and Predicted as DDOS Samples is:\",fn/l*100,\"%\")"
   ]
  },
  {
   "cell_type": "code",
   "execution_count": null,
   "metadata": {},
   "outputs": [],
   "source": [
    "ms = X_test[y_test != y_pred]\n",
    "ms_label=ms.join(y_test)"
   ]
  },
  {
   "cell_type": "code",
   "execution_count": null,
   "metadata": {},
   "outputs": [],
   "source": [
    "data = pd.read_csv(\"final_dataset.csv\",index_col = 0)\n",
    "#data_req = ms_label.join(data[\"Src IP\"])\n",
    "#data_req = data_req.rename(columns = {'Src IP':84})\n",
    "#data_req.head()\n",
    "data_new = data.join(ms_label)\n",
    "data_new.dropna(subset = [0],inplace = True)\n",
    "data_new"
   ]
  },
  {
   "cell_type": "code",
   "execution_count": null,
   "metadata": {},
   "outputs": [],
   "source": []
  }
 ],
 "metadata": {
  "kernelspec": {
   "display_name": "Python 3",
   "language": "python",
   "name": "python3"
  },
  "language_info": {
   "codemirror_mode": {
    "name": "ipython",
    "version": 3
   },
   "file_extension": ".py",
   "mimetype": "text/x-python",
   "name": "python",
   "nbconvert_exporter": "python",
   "pygments_lexer": "ipython3",
   "version": "3.8.5"
  }
 },
 "nbformat": 4,
 "nbformat_minor": 4
}
