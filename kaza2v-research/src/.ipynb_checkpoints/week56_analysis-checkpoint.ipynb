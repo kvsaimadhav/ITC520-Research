{
 "cells": [
  {
   "cell_type": "markdown",
   "metadata": {},
   "source": [
    "# Analysis of Naive Bayes ML Algorithm"
   ]
  },
  {
   "cell_type": "code",
   "execution_count": 1,
   "metadata": {},
   "outputs": [],
   "source": [
    "import numpy as np\n",
    "import pandas as pd\n",
    "import matplotlib.pyplot as plt\n",
    "from numpy import loadtxt\n",
    "from sklearn.model_selection import train_test_split\n",
    "from sklearn.metrics import accuracy_score\n",
    "from sklearn.metrics import f1_score\n",
    "from sklearn.metrics import precision_score\n",
    "import pickle\n",
    "from sklearn.metrics import confusion_matrix\n",
    "from sklearn.naive_bayes import GaussianNB\n",
    "from sklearn.naive_bayes import BernoulliNB\n",
    "from sklearn.metrics import recall_score"
   ]
  },
  {
   "cell_type": "markdown",
   "metadata": {},
   "source": [
    "# Training of the Dataset"
   ]
  },
  {
   "cell_type": "code",
   "execution_count": null,
   "metadata": {},
   "outputs": [
    {
     "name": "stderr",
     "output_type": "stream",
     "text": [
      "/usr/local/Cellar/jupyterlab/2.2.8/libexec/lib/python3.8/site-packages/numpy/lib/arraysetops.py:580: FutureWarning: elementwise comparison failed; returning scalar instead, but in the future will perform elementwise comparison\n",
      "  mask |= (ar1 == a)\n"
     ]
    }
   ],
   "source": [
    "train = pd.read_csv(\"final_dataset.csv\",index_col = 0)\n",
    "data = train\n",
    "train.dropna(subset = [\"Flow Byts/s\"], inplace=True)\n",
    "data.dropna(subset = [\"Flow Byts/s\"], inplace=True)\n",
    "from sklearn import preprocessing\n",
    "for f in data.columns:\n",
    "    if data[f].dtype == 'object':\n",
    "        lbl = preprocessing.LabelEncoder() \n",
    "        lbl.fit(list(data[f].values)) \n",
    "        data[f] = lbl.transform(list(data[f].values))\n",
    "    elif data[f].dtype == 'float64':\n",
    "        lbl = preprocessing.LabelEncoder() \n",
    "        lbl.fit(list(data[f].values)) \n",
    "        data[f] = lbl.transform(list(data[f].values))\n",
    "data=np.array(data)\n",
    "data = data.astype(float)"
   ]
  },
  {
   "cell_type": "markdown",
   "metadata": {},
   "source": [
    "# Modeling the Dataset with Naive Bayes ML Algorithm"
   ]
  },
  {
   "cell_type": "code",
   "execution_count": null,
   "metadata": {},
   "outputs": [],
   "source": [
    "d0 = pd.DataFrame(data)\n",
    "X = d0.drop(83,axis=1)\n",
    "Y = d0[83]\n",
    "seed = 7\n",
    "test_size = 0.33\n",
    "X_train, X_test, y_train, y_test = train_test_split(X, Y, test_size=test_size, random_state=seed)\n",
    "model=BernoulliNB(binarize=0.0)\n",
    "model.fit(X_train, y_train)\n",
    "y_pred = model.predict(X_test)\n",
    "misclassified_samples = X_test[y_test != y_pred]\n",
    "mc=misclassified_samples.shape[0]\n",
    "print(\"Misclassified :\",mc)"
   ]
  },
  {
   "cell_type": "markdown",
   "metadata": {},
   "source": [
    "# Finding the Source IP's of Suspected Clients"
   ]
  },
  {
   "cell_type": "code",
   "execution_count": null,
   "metadata": {},
   "outputs": [],
   "source": [
    "X_ind = X_test.index\n",
    "X_new = X_test.reset_index(drop = True)\n",
    "y_df = pd.DataFrame(y_pred)\n",
    "y_df.columns = [83]\n",
    "X_df = X_new.merge(y_df,left_index = True,right_index=True)\n",
    "X_df"
   ]
  },
  {
   "cell_type": "markdown",
   "metadata": {},
   "source": [
    "# IP matched with the Preprocessing"
   ]
  },
  {
   "cell_type": "code",
   "execution_count": null,
   "metadata": {},
   "outputs": [],
   "source": [
    "old_train = pd.read_csv(\"final_dataset.csv\",index_col = 0)\n",
    "vector = list(old_train['Src IP'].values.tolist())\n",
    "from sklearn import preprocessing\n",
    "lbl = preprocessing.LabelEncoder()\n",
    "x = lbl.fit(list(vector))\n",
    "vector = lbl.transform(list(vector))\n",
    "vector1 = list(old_train['Src IP'].values.tolist())\n",
    "v = pd.DataFrame(vector)\n",
    "v1 = pd.DataFrame(vector1)\n",
    "v.columns = [1]\n",
    "vmerge = v1.merge(v,left_index=True,right_index=True)\n",
    "vmerge"
   ]
  },
  {
   "cell_type": "markdown",
   "metadata": {},
   "source": [
    "# Source IP of Attackers with Preprocessed Values"
   ]
  },
  {
   "cell_type": "code",
   "execution_count": null,
   "metadata": {},
   "outputs": [],
   "source": [
    "vdup = vmerge.drop_duplicates()\n",
    "src_ip = X_df[X_df[83]==1][1].values\n",
    "df_src = pd.DataFrame(src_ip)\n",
    "src_drop = df_src.drop_duplicates()\n",
    "vdupi = vdup.reset_index(drop=True)\n",
    "src_dropi = src_drop.reset_index(drop=True)\n",
    "src_dropint = src_dropi.astype(int)\n",
    "src_dropint"
   ]
  },
  {
   "cell_type": "markdown",
   "metadata": {},
   "source": [
    "# Conversion of Preprocessed data to IP address"
   ]
  },
  {
   "cell_type": "code",
   "execution_count": null,
   "metadata": {},
   "outputs": [],
   "source": [
    "src_address = []\n",
    "p = src_dropint.shape[0]\n",
    "for i in range(0,p):\n",
    "    src_address.append(vdupi[vdupi[1]==src_dropint.iloc[i][0]][0].values)\n",
    "h = len(src_address)\n",
    "src_address"
   ]
  },
  {
   "cell_type": "code",
   "execution_count": null,
   "metadata": {},
   "outputs": [],
   "source": [
    "src_addr_df = pd.DataFrame(src_address)\n",
    "src_addr_df.to_csv('AttackSrcAddr.csv',index = False)"
   ]
  }
 ],
 "metadata": {
  "kernelspec": {
   "display_name": "Python 3",
   "language": "python",
   "name": "python3"
  },
  "language_info": {
   "codemirror_mode": {
    "name": "ipython",
    "version": 3
   },
   "file_extension": ".py",
   "mimetype": "text/x-python",
   "name": "python",
   "nbconvert_exporter": "python",
   "pygments_lexer": "ipython3",
   "version": "3.8.5"
  }
 },
 "nbformat": 4,
 "nbformat_minor": 4
}
